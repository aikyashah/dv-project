{
 "cells": [
  {
   "cell_type": "code",
   "execution_count": 77,
   "metadata": {},
   "outputs": [],
   "source": [
    "import csv\n",
    "\n",
    "business_ids = set()\n",
    "years = set()\n",
    "\n",
    "with open('reviews_to_db_t.csv') as csvfile:\n",
    "    readCSV = csv.reader(csvfile, delimiter=',')\n",
    "    for row in readCSV:\n",
    "        business_ids.add(row[1])\n",
    "        try:\n",
    "            year = int(row[6])\n",
    "        except:\n",
    "            pass\n",
    "        if year > 2010:\n",
    "            years.add(str(year))\n",
    "            "
   ]
  },
  {
   "cell_type": "code",
   "execution_count": 78,
   "metadata": {
    "scrolled": true
   },
   "outputs": [
    {
     "name": "stdout",
     "output_type": "stream",
     "text": [
      "19365\n",
      "8\n",
      "set(['2018', '2015', '2014', '2017', '2016', '2011', '2013', '2012'])\n",
      "set(['2018', '2015', '2014', '2017', '2016', '2011', '2013', '2012'])\n",
      "8\n"
     ]
    }
   ],
   "source": [
    "print(len(business_ids))\n",
    "print(len(years))\n",
    "print(years)\n",
    "try:\n",
    "    years.remove('date')\n",
    "except:\n",
    "    pass\n",
    "print(years)\n",
    "print(len(years))"
   ]
  },
  {
   "cell_type": "code",
   "execution_count": 79,
   "metadata": {},
   "outputs": [],
   "source": [
    "import pprint\n",
    "from pymongo import MongoClient\n",
    "\n",
    "client = MongoClient()\n",
    "db = client.dv\n",
    "collection = db.reviews_to_db"
   ]
  },
  {
   "cell_type": "code",
   "execution_count": 80,
   "metadata": {},
   "outputs": [
    {
     "data": {
      "text/plain": [
       "[u'reviews_to_db']"
      ]
     },
     "execution_count": 80,
     "metadata": {},
     "output_type": "execute_result"
    }
   ],
   "source": [
    "db.list_collection_names()"
   ]
  },
  {
   "cell_type": "code",
   "execution_count": null,
   "metadata": {},
   "outputs": [],
   "source": [
    "row_os = []\n",
    "for b_id in business_ids:\n",
    "    for year in years:\n",
    "        score = 0\n",
    "        for row in collection.find({'business_id':b_id}):\n",
    "            try:\n",
    "                if str(year) == str(row['date']):\n",
    "                    score = score + row['score']\n",
    "            except:\n",
    "                pass\n",
    "            \n",
    "        \n",
    "        row_o = {\n",
    "            'business_id': b_id,\n",
    "            'year': year,\n",
    "            'score': score\n",
    "        }\n",
    "        row_os.append(row_o)\n"
   ]
  },
  {
   "cell_type": "code",
   "execution_count": null,
   "metadata": {},
   "outputs": [],
   "source": [
    "print(len(row_os))"
   ]
  },
  {
   "cell_type": "code",
   "execution_count": null,
   "metadata": {},
   "outputs": [],
   "source": [
    "with open('SentimentOverTime.csv', mode='w') as csv_file:\n",
    "    fieldnames = ['business_id', 'year', 'score']\n",
    "    writer = csv.DictWriter(csv_file, fieldnames=fieldnames)\n",
    "\n",
    "    writer.writeheader()\n",
    "    writer.writerows(row_os)"
   ]
  },
  {
   "cell_type": "code",
   "execution_count": null,
   "metadata": {},
   "outputs": [],
   "source": []
  }
 ],
 "metadata": {
  "kernelspec": {
   "display_name": "Python 2",
   "language": "python",
   "name": "python2"
  }
 },
 "nbformat": 4,
 "nbformat_minor": 2
}
