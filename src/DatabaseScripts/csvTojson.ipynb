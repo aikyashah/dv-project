{
 "cells": [
  {
   "cell_type": "code",
   "execution_count": 8,
   "metadata": {},
   "outputs": [
    {
     "name": "stderr",
     "output_type": "stream",
     "text": [
      "C:\\ProgramData\\Anaconda3\\lib\\site-packages\\ipykernel_launcher.py:4: DeprecationWarning: 'U' mode is deprecated\n",
      "  after removing the cwd from sys.path.\n",
      "IOPub data rate exceeded.\n",
      "The notebook server will temporarily stop sending output\n",
      "to the client in order to avoid crashing it.\n",
      "To change this limit, set the config variable\n",
      "`--NotebookApp.iopub_data_rate_limit`.\n",
      "\n",
      "Current values:\n",
      "NotebookApp.iopub_data_rate_limit=1000000.0 (bytes/sec)\n",
      "NotebookApp.rate_limit_window=3.0 (secs)\n",
      "\n"
     ]
    }
   ],
   "source": [
    "import csv  \n",
    "import json  \n",
    " \n",
    "f = open( './data/yelp-dataset/data_CSV/data_compressed/Restaurant_business.csv', 'rU',encoding=\"utf-8\" )  \n",
    "reader = csv.DictReader( f, fieldnames = ( \"business_id\",\"name\",\"address\",\"city\",\"state\",\"postal_code\",\"latitude\",\"longitude\",\"stars\", \"review_count\",\"is_open\",\"attributes\",\"categories\",\"hours\"))  \n",
    "# Parse the CSV into JSON  \n",
    "out = json.dumps( [ row for row in reader ] )  \n",
    "print (\"JSON parsed!\")  \n",
    "# Save the JSON  \n",
    "f = open( './data/yelp-dataset/data_CSV/data_compressed/Restaurant_business.json', 'w',encoding=\"utf-8\")  \n",
    "f.write(out) \n",
    "print(out)\n",
    "print (\"JSON saved!\")"
   ]
  },
  {
   "cell_type": "code",
   "execution_count": null,
   "metadata": {},
   "outputs": [],
   "source": []
  }
 ],
 "metadata": {
  "kernelspec": {
   "display_name": "Python 3",
   "language": "python",
   "name": "python3"
  },
  "language_info": {
   "codemirror_mode": {
    "name": "ipython",
    "version": 3
   },
   "file_extension": ".py",
   "mimetype": "text/x-python",
   "name": "python",
   "nbconvert_exporter": "python",
   "pygments_lexer": "ipython3",
   "version": "3.7.1"
  }
 },
 "nbformat": 4,
 "nbformat_minor": 2
}
